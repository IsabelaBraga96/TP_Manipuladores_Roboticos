{
  "nbformat": 4,
  "nbformat_minor": 0,
  "metadata": {
    "colab": {
      "name": "TP-Manipuladores.ipynb",
      "provenance": [],
      "collapsed_sections": [
        "o4PJliV4p-Ox",
        "Wg9LVGjWqbsr",
        "pZl5D9fVq34l",
        "FQ0dFncGtfWx"
      ]
    },
    "kernelspec": {
      "name": "python3",
      "display_name": "Python 3"
    },
    "language_info": {
      "name": "python"
    }
  },
  "cells": [
    {
      "cell_type": "markdown",
      "source": [
        "#**Trabalho prático: Simulação e controle de um robô manipulador para paletização de caixas**"
      ],
      "metadata": {
        "id": "P3oEejsRpI1u"
      }
    },
    {
      "cell_type": "markdown",
      "source": [
        "####Clona repositório do uaibot e instala biblioteca"
      ],
      "metadata": {
        "id": "o4PJliV4p-Ox"
      }
    },
    {
      "cell_type": "code",
      "source": [
        "!git clone https://github.com/viniciusmgn/uaibot_vinicius.git\n",
        "!pip install uaibot_vinicius/"
      ],
      "metadata": {
        "id": "JmXpPTe745Xe",
        "colab": {
          "base_uri": "https://localhost:8080/"
        },
        "outputId": "cdab9ca2-3d40-4271-cefa-162916bbed71"
      },
      "execution_count": null,
      "outputs": [
        {
          "output_type": "stream",
          "name": "stdout",
          "text": [
            "fatal: destination path 'uaibot_vinicius' already exists and is not an empty directory.\n",
            "Looking in indexes: https://pypi.org/simple, https://us-python.pkg.dev/colab-wheels/public/simple/\n",
            "Processing ./uaibot_vinicius\n",
            "\u001b[33m  DEPRECATION: A future pip version will change local packages to be built in-place without first copying to a temporary directory. We recommend you use --use-feature=in-tree-build to test your packages with this new behavior before it becomes the default.\n",
            "   pip 21.3 will remove support for this functionality. You can find discussion regarding this at https://github.com/pypa/pip/issues/7555.\u001b[0m\n",
            "  Installing build dependencies ... \u001b[?25l\u001b[?25hdone\n",
            "  Getting requirements to build wheel ... \u001b[?25l\u001b[?25hdone\n",
            "    Preparing wheel metadata ... \u001b[?25l\u001b[?25hdone\n",
            "Requirement already satisfied: cvxopt<2.0.0,>=1.2.7 in /usr/local/lib/python3.7/dist-packages (from uaibot==0.0.1) (1.2.7)\n",
            "Requirement already satisfied: httplib2<0.21.0,>=0.20.4 in /usr/local/lib/python3.7/dist-packages (from uaibot==0.0.1) (0.20.4)\n",
            "Requirement already satisfied: gym<0.22.0,>=0.21.0 in /usr/local/lib/python3.7/dist-packages (from uaibot==0.0.1) (0.21.0)\n",
            "Requirement already satisfied: numpy<2.0.0,>=1.21.5 in /usr/local/lib/python3.7/dist-packages (from uaibot==0.0.1) (1.21.6)\n",
            "Requirement already satisfied: numpy-stl<3.0.0,>=2.16.3 in /usr/local/lib/python3.7/dist-packages (from uaibot==0.0.1) (2.17.1)\n",
            "Requirement already satisfied: plotly<6.0.0,>=5.5.0 in /usr/local/lib/python3.7/dist-packages (from uaibot==0.0.1) (5.5.0)\n",
            "Requirement already satisfied: PyWavefront<2.0.0,>=1.3.3 in /usr/local/lib/python3.7/dist-packages (from uaibot==0.0.1) (1.3.3)\n",
            "Requirement already satisfied: pycollada<0.8.0,>=0.7.2 in /usr/local/lib/python3.7/dist-packages (from uaibot==0.0.1) (0.7.2)\n",
            "Requirement already satisfied: ipython<8.0.0,>=7.0.0 in /usr/local/lib/python3.7/dist-packages (from uaibot==0.0.1) (7.34.0)\n",
            "Requirement already satisfied: colour<0.2.0,>=0.1.5 in /usr/local/lib/python3.7/dist-packages (from uaibot==0.0.1) (0.1.5)\n",
            "Requirement already satisfied: importlib-metadata>=4.8.1 in /usr/local/lib/python3.7/dist-packages (from gym<0.22.0,>=0.21.0->uaibot==0.0.1) (4.11.4)\n",
            "Requirement already satisfied: cloudpickle>=1.2.0 in /usr/local/lib/python3.7/dist-packages (from gym<0.22.0,>=0.21.0->uaibot==0.0.1) (1.3.0)\n",
            "Requirement already satisfied: pyparsing!=3.0.0,!=3.0.1,!=3.0.2,!=3.0.3,<4,>=2.4.2 in /usr/local/lib/python3.7/dist-packages (from httplib2<0.21.0,>=0.20.4->uaibot==0.0.1) (3.0.9)\n",
            "Requirement already satisfied: zipp>=0.5 in /usr/local/lib/python3.7/dist-packages (from importlib-metadata>=4.8.1->gym<0.22.0,>=0.21.0->uaibot==0.0.1) (3.8.0)\n",
            "Requirement already satisfied: typing-extensions>=3.6.4 in /usr/local/lib/python3.7/dist-packages (from importlib-metadata>=4.8.1->gym<0.22.0,>=0.21.0->uaibot==0.0.1) (4.1.1)\n",
            "Requirement already satisfied: setuptools>=18.5 in /usr/local/lib/python3.7/dist-packages (from ipython<8.0.0,>=7.0.0->uaibot==0.0.1) (57.4.0)\n",
            "Requirement already satisfied: matplotlib-inline in /usr/local/lib/python3.7/dist-packages (from ipython<8.0.0,>=7.0.0->uaibot==0.0.1) (0.1.3)\n",
            "Requirement already satisfied: prompt-toolkit!=3.0.0,!=3.0.1,<3.1.0,>=2.0.0 in /usr/local/lib/python3.7/dist-packages (from ipython<8.0.0,>=7.0.0->uaibot==0.0.1) (3.0.30)\n",
            "Requirement already satisfied: backcall in /usr/local/lib/python3.7/dist-packages (from ipython<8.0.0,>=7.0.0->uaibot==0.0.1) (0.2.0)\n",
            "Requirement already satisfied: traitlets>=4.2 in /usr/local/lib/python3.7/dist-packages (from ipython<8.0.0,>=7.0.0->uaibot==0.0.1) (5.1.1)\n",
            "Requirement already satisfied: pickleshare in /usr/local/lib/python3.7/dist-packages (from ipython<8.0.0,>=7.0.0->uaibot==0.0.1) (0.7.5)\n",
            "Requirement already satisfied: decorator in /usr/local/lib/python3.7/dist-packages (from ipython<8.0.0,>=7.0.0->uaibot==0.0.1) (4.4.2)\n",
            "Requirement already satisfied: pygments in /usr/local/lib/python3.7/dist-packages (from ipython<8.0.0,>=7.0.0->uaibot==0.0.1) (2.6.1)\n",
            "Requirement already satisfied: jedi>=0.16 in /usr/local/lib/python3.7/dist-packages (from ipython<8.0.0,>=7.0.0->uaibot==0.0.1) (0.18.1)\n",
            "Requirement already satisfied: pexpect>4.3 in /usr/local/lib/python3.7/dist-packages (from ipython<8.0.0,>=7.0.0->uaibot==0.0.1) (4.8.0)\n",
            "Requirement already satisfied: parso<0.9.0,>=0.8.0 in /usr/local/lib/python3.7/dist-packages (from jedi>=0.16->ipython<8.0.0,>=7.0.0->uaibot==0.0.1) (0.8.3)\n",
            "Requirement already satisfied: python-utils>=1.6.2 in /usr/local/lib/python3.7/dist-packages (from numpy-stl<3.0.0,>=2.16.3->uaibot==0.0.1) (3.3.3)\n",
            "Requirement already satisfied: ptyprocess>=0.5 in /usr/local/lib/python3.7/dist-packages (from pexpect>4.3->ipython<8.0.0,>=7.0.0->uaibot==0.0.1) (0.7.0)\n",
            "Requirement already satisfied: six in /usr/local/lib/python3.7/dist-packages (from plotly<6.0.0,>=5.5.0->uaibot==0.0.1) (1.15.0)\n",
            "Requirement already satisfied: tenacity>=6.2.0 in /usr/local/lib/python3.7/dist-packages (from plotly<6.0.0,>=5.5.0->uaibot==0.0.1) (8.0.1)\n",
            "Requirement already satisfied: wcwidth in /usr/local/lib/python3.7/dist-packages (from prompt-toolkit!=3.0.0,!=3.0.1,<3.1.0,>=2.0.0->ipython<8.0.0,>=7.0.0->uaibot==0.0.1) (0.2.5)\n",
            "Requirement already satisfied: python-dateutil>=2.2 in /usr/local/lib/python3.7/dist-packages (from pycollada<0.8.0,>=0.7.2->uaibot==0.0.1) (2.8.2)\n",
            "Building wheels for collected packages: uaibot\n",
            "  Building wheel for uaibot (PEP 517) ... \u001b[?25l\u001b[?25hdone\n",
            "  Created wheel for uaibot: filename=uaibot-0.0.1-py3-none-any.whl size=104850 sha256=b4804bbeac2cfe87470243eb6668236eeea301a4169f41fba64c7a71127b9c42\n",
            "  Stored in directory: /tmp/pip-ephem-wheel-cache-tohvocrx/wheels/2a/63/33/ae58b9e82de4b97bb2ae16b73d17cb1cd7bdfdb0b1ecb71273\n",
            "Successfully built uaibot\n",
            "Installing collected packages: uaibot\n",
            "  Attempting uninstall: uaibot\n",
            "    Found existing installation: uaibot 0.0.1\n",
            "    Uninstalling uaibot-0.0.1:\n",
            "      Successfully uninstalled uaibot-0.0.1\n",
            "Successfully installed uaibot-0.0.1\n"
          ]
        }
      ]
    },
    {
      "cell_type": "markdown",
      "source": [
        "####Importa bibliotecas necessárias para o desenvolvimento da simulação"
      ],
      "metadata": {
        "id": "Wg9LVGjWqbsr"
      }
    },
    {
      "cell_type": "code",
      "source": [
        "import uaibot as ub\n",
        "import numpy as np\n",
        "import math as m\n",
        "import plotly as ply"
      ],
      "metadata": {
        "id": "t4pqCJiY5qCY"
      },
      "execution_count": null,
      "outputs": []
    },
    {
      "cell_type": "markdown",
      "source": [
        "####Cria cenário\n",
        "\n",
        "*   Texturas\n",
        "  * Alumínio\n",
        "  * Plástico\n",
        "  * Madeira\n",
        "  * Concreto\n",
        "*   Objetos\n",
        "  * Esteira transportadora\n",
        "  * Caixas\n",
        "  * Palete\n",
        "  * Base do robô\n",
        "\n"
      ],
      "metadata": {
        "id": "pZl5D9fVq34l"
      }
    },
    {
      "cell_type": "code",
      "source": [
        "from uaibot.graphics.meshmaterial import MeshMaterial\n",
        "\n",
        "texture_conveyor = ub.Texture(\n",
        "    url='https://raw.githubusercontent.com/IsabelaBraga96/TP_Manipuladores_Roboticos/master/Textura_aluminio.jpg',\n",
        "    wrap_s='RepeatWrapping', wrap_t='RepeatWrapping', repeat=[1, 1])\n",
        "\n",
        "texture_box = ub.Texture(\n",
        "    url='https://raw.githubusercontent.com/IsabelaBraga96/TP_Manipuladores_Roboticos/master/Textura_plastico.jpg',\n",
        "    wrap_s='RepeatWrapping', wrap_t='RepeatWrapping', repeat=[1, 1])\n",
        "\n",
        "texture_wood = ub.Texture(\n",
        "    url='https://raw.githubusercontent.com/IsabelaBraga96/TP_Manipuladores_Roboticos/master/Textura_madeira.jpg',\n",
        "    wrap_s='RepeatWrapping', wrap_t='RepeatWrapping', repeat=[1, 1])\n",
        "\n",
        "material_caixa = ub.MeshMaterial(texture_map=texture_box, roughness=1, metalness=0, opacity=1,color='#004d99',reflectivity=0, clearcoat=0, emissive='#3c3939')\n",
        "material_correia = ub.MeshMaterial(texture_map=texture_conveyor, roughness=0.364, metalness=0.415, opacity=1,color='#4e4f50',reflectivity=1, clearcoat=0.16, emissive='#3c3939')\n",
        "material_wood = ub.MeshMaterial(texture_map=texture_wood, roughness=0.364, metalness=0.7, opacity=1)\n",
        "\n",
        "conveyor_1 = ub.Model3D(url = 'https://raw.githubusercontent.com/IsabelaBraga96/TP_Manipuladores_Roboticos/master/Correia_Expansiva.obj', scale= 0.005, mesh_material= material_correia)\n",
        "box_1 = ub.Model3D(url = 'https://raw.githubusercontent.com/IsabelaBraga96/TP_Manipuladores_Roboticos/master/Caixa_Plastico.obj', scale= 0.0035, mesh_material= material_caixa)\n",
        "\n",
        "conveyor = ub.RigidObject(name = 'conveyor', list_model_3d=[conveyor_1],htm = ub.Utils.trn([0.7,0.2,0]) @ ub.Utils.rotz(np.pi/2))\n",
        "\n",
        "box = ub.RigidObject(name = 'box', list_model_3d=[box_1],htm = ub.Utils.trn([0.69,0.2,0.41]) @ ub.Utils.rotz(np.pi/2))\n",
        "box1 = ub.RigidObject(name = 'box1', list_model_3d=[box_1],htm = ub.Utils.trn([0.69,0.2,0.41]) @ ub.Utils.rotz(np.pi/2))\n",
        "box2 = ub.RigidObject(name = 'box2', list_model_3d=[box_1],htm = ub.Utils.trn([0.69,0.2,0.41]) @ ub.Utils.rotz(np.pi/2))\n",
        "box3 = ub.RigidObject(name = 'box3', list_model_3d=[box_1],htm = ub.Utils.trn([0.69,0.2,0.41]) @ ub.Utils.rotz(np.pi/2))\n",
        "box4 = ub.RigidObject(name = 'box4', list_model_3d=[box_1],htm = ub.Utils.trn([0.69,0.2,0.41]) @ ub.Utils.rotz(np.pi/2))\n",
        "box5 = ub.RigidObject(name = 'box5', list_model_3d=[box_1],htm = ub.Utils.trn([0.69,0.2,0.41]) @ ub.Utils.rotz(np.pi/2))\n",
        "\n",
        "base_pallet = ub.Box(name=\"base_pallet\", htm = ub.Utils.trn([0,0.6,0.05]), width=0.6, depth=0.6, height=0.1, mesh_material=material_wood)\n",
        "\n",
        "material_table = ub.MeshMaterial(roughness=0.35, metalness=1, opacity=1,color='#888B8D',reflectivity=1)\n",
        "base_quadrado = ub.Box(name=\"base_quadrado\", htm = ub.Utils.trn([0,0,0.05]), width=0.5, depth=0.5, height=0.10, mesh_material=material_table)\n",
        "base_cilindro = ub.Cylinder(name='base_cilindro',htm = ub.Utils.trn([0,0,0.2]), radius=0.24, height=0.2, mesh_material=material_table)"
      ],
      "metadata": {
        "id": "A5gCm-fMbCfM"
      },
      "execution_count": null,
      "outputs": []
    },
    {
      "cell_type": "markdown",
      "source": [
        "#### Define os parâmetros da simulação e as funções de interface do robô"
      ],
      "metadata": {
        "id": "FQ0dFncGtfWx"
      }
    },
    {
      "cell_type": "code",
      "source": [
        "dt = 0.01\n",
        "t = 0\n",
        "tmax = 70\n",
        "\n",
        "def get_configuration(robot):\n",
        "  return robot.q\n",
        "\n",
        "def set_configuration_speed(robot, qdot_des):\n",
        "  q_next = robot.q + qdot_des*dt\n",
        "  robot.add_ani_frame(time = t+dt, q = q_next)"
      ],
      "metadata": {
        "id": "lul_o1Rfmz-D"
      },
      "execution_count": null,
      "outputs": []
    },
    {
      "cell_type": "markdown",
      "source": [
        "#### Cria robô, implementa lógica de controle e gera a simulação"
      ],
      "metadata": {
        "id": "oxTpHkYqtyos"
      }
    },
    {
      "cell_type": "code",
      "source": [
        "robot = ub.Robot.create_kuka_kr5(htm = ub.Utils.trn([0,0,base_quadrado.height+base_cilindro.height]), color = 'gray')\n",
        "HOME = robot.fkm(robot.q0)\n",
        "POS = box.htm\n",
        "\n",
        "#Define os limites de junta e de velocidade de junta\n",
        "limites_de_vel = [4.363,4.363,4.363,7.155,7.155,11.519]\n",
        "limites_de_junta = [[2.967,-2.967],[0.785,-3.316],[2.879,-2.076],[3.316,-3.316],[2.094,-2.094],[6.248,-6.248]]\n",
        "\n",
        "# Cria a função F:\n",
        "def fun_F(r):\n",
        "    A = [0.25, 0.25, 0.25, 0.25, 0.25, 0.25]\n",
        "    w_tol = [0.01, 0.01, 0.01, 0.01, 0.01, 0.01]\n",
        "    F = np.matrix(np.zeros((6, 1)))\n",
        "    for i in range(6):\n",
        "        if abs(r[i, 0]) < w_tol[i]:\n",
        "            F[i, 0] = -A[i] * (r[i, 0] / w_tol[i])\n",
        "        elif r[i, 0] >= w_tol[i]:\n",
        "            F[i, 0] = -A[i]\n",
        "        else:\n",
        "            F[i, 0] = A[i]\n",
        "    return F\n",
        "\n",
        "## Crias as posições para o Robô\n",
        "h=0\n",
        "htm_d = []\n",
        "# Pega a primeira caixa\n",
        "htm_d.append(POS @ ub.Utils.trn([0,0,0.3]) @ ub.Utils.rotx(m.pi)) #0\n",
        "htm_d.append(base_pallet.htm @ ub.Utils.trn([0,-0.15,0.75]) @ ub.Utils.rotx(m.pi)) #1\n",
        "htm_d.append(htm_d[len(htm_d)-1] @ ub.Utils.trn([0,0,0.53])) #3\n",
        "\n",
        "# Pega a segunda caixa\n",
        "htm_d.append(POS @ ub.Utils.trn([0,0,0.3]) @ ub.Utils.rotx(m.pi)) #4\n",
        "htm_d.append(base_pallet.htm @ ub.Utils.trn([0,0.15,0.75]) @ ub.Utils.rotx(m.pi)) #5\n",
        "htm_d.append(htm_d[len(htm_d)-1] @ ub.Utils.trn([0,0,0.53])) #6\n",
        "\n",
        "# Pega a terceira caixa\n",
        "htm_d.append(POS @ ub.Utils.trn([0,0,0.3]) @ ub.Utils.rotx(m.pi)) #7\n",
        "htm_d.append(base_pallet.htm @ ub.Utils.trn([0,-0.15,0.75]) @ ub.Utils.rotx(m.pi)) #8\n",
        "htm_d.append(htm_d[len(htm_d)-1] @ ub.Utils.trn([0,0,0.38])) #9\n",
        "\n",
        "# Pega a quarta caixa\n",
        "htm_d.append(POS @ ub.Utils.trn([0,0,0.3]) @ ub.Utils.rotx(m.pi)) #10\n",
        "htm_d.append(base_pallet.htm @ ub.Utils.trn([0,0.15,0.75]) @ ub.Utils.rotx(m.pi)) #11\n",
        "htm_d.append(htm_d[len(htm_d)-1] @ ub.Utils.trn([0,0,0.38])) #12\n",
        "\n",
        "# Pega a quinta caixa\n",
        "htm_d.append(POS @ ub.Utils.trn([0,0,0.3]) @ ub.Utils.rotx(m.pi)) #13\n",
        "htm_d.append(base_pallet.htm @ ub.Utils.trn([0,-0.15,0.75]) @ ub.Utils.rotx(m.pi)) #14\n",
        "htm_d.append(htm_d[len(htm_d)-1] @ ub.Utils.trn([0,0,0.23])) #15\n",
        "\n",
        "# Pega a sexta caixa\n",
        "htm_d.append(POS @ ub.Utils.trn([0,0,0.3]) @ ub.Utils.rotx(m.pi)) #16\n",
        "htm_d.append(base_pallet.htm @ ub.Utils.trn([0,0.15,0.75]) @ ub.Utils.rotx(m.pi)) #17\n",
        "htm_d.append(htm_d[len(htm_d)-1] @ ub.Utils.trn([0,0,0.23])) #18\n",
        "\n",
        "htm_d.append(HOME) #19 - FIM\n",
        "\n",
        "# Cria a simulação\n",
        "d = ub.Frame(htm_d[4])\n",
        "d1 = ub.Frame(htm_d[3])\n",
        "#d2 = ub.Frame(htm_d[6])\n",
        "#sim = ub.Simulation.create_sim_factory([conveyor, box, base_pallet])\n",
        "#sim = ub.Simulation.create_sim_factory([robot, conveyor, base_quadrado,base_cilindro,box,base_pallet,d,d1,d2])\n",
        "sim = ub.Simulation.create_sim_factory([robot, conveyor, base_quadrado,base_cilindro,box,base_pallet,d])\n",
        "sim.add(box1)\n",
        "sim.add(box2)\n",
        "sim.add(box3)\n",
        "sim.add(box4)\n",
        "sim.add(box5)\n",
        "\n",
        "# Captura o número de juntas do robô\n",
        "n = np.shape(robot.q)[0]\n",
        "\n",
        "# Cria uma matriz para o histórico de função de tarefa, da ação de controle\n",
        "# e do tempo\n",
        "hist_r = np.matrix(np.zeros((6,0)))\n",
        "hist_u = np.matrix(np.zeros((n,0)))\n",
        "hist_q = np.matrix(np.zeros((n,0)))\n",
        "hist_t = []\n",
        "\n",
        "#Colocaremos aqui nosso \"main\" do controlador, que ficará em um laço\n",
        "#durante um tempo tmax\n",
        "for i in range(round(tmax/dt)):\n",
        "  #################################\n",
        "  # Início da lógica de controle  #\n",
        "  #################################\n",
        "\n",
        "  # Mede a configuração dos sensores\n",
        "  q = get_configuration(robot)\n",
        "\n",
        "  # Calcula a cinemática direta e Jacobiana para o efetuador nessa\n",
        "  # configuração\n",
        "  Jg, fk = robot.jac_geo(q)\n",
        "  #Faz a extração de x_e, y_e, z_e e s_e\n",
        "  x_e = fk[0:3,0]\n",
        "  y_e = fk[0:3,1]\n",
        "  z_e = fk[0:3,2]\n",
        "  s_e = fk[0:3,3]\n",
        "\n",
        "  # Faz a extração dos elementos x_d, y_d, z_d e s_d\n",
        "  x_d = htm_d[h][0:3,0]\n",
        "  y_d = htm_d[h][0:3,1]\n",
        "  z_d = htm_d[h][0:3,2]\n",
        "  s_d = htm_d[h][0:3,3]\n",
        "\n",
        "  # Monta o vetor de tarefa\n",
        "  r = np.matrix(np.zeros((6,1)))\n",
        "  r[0:3] = s_e - s_d\n",
        "  r[3] = 1- x_d.T * x_e\n",
        "  r[4] = 1- y_d.T * y_e\n",
        "  r[5] = 1- z_d.T * z_e\n",
        "\n",
        "  # Monta a Jacobiana de tarefa\n",
        "  Jr = np.matrix(np.zeros((6,n)))\n",
        "\n",
        "  Jr[0:3,:] = Jg[0:3,:]\n",
        "  Jr[3,:] = x_d.T * ub.Utils.S(x_e) * Jg[3:6,:]\n",
        "  Jr[4,:] = y_d.T * ub.Utils.S(y_e) * Jg[3:6,:]\n",
        "  Jr[5,:] = z_d.T * ub.Utils.S(z_e) * Jg[3:6,:]\n",
        "\n",
        "  # Calcula a ação de controle\n",
        "  u = ub.Utils.dp_inv(Jr,0.001)*fun_F(r)\n",
        "\n",
        "  # Limita a velocidade máxima de junta\n",
        "  for j in range(n):\n",
        "    if u[j] > limites_de_vel[j]:\n",
        "      u[j] = limites_de_vel[j]\n",
        "    elif u[j] < -limites_de_vel[j]:\n",
        "      u[j] = -limites_de_vel[j]\n",
        "    \n",
        "  # Limita o movimento da junta\n",
        "  for k in range(n):\n",
        "    if (q[k] + u[k]*dt) > limites_de_junta[k][0]:\n",
        "      u[k] = (limites_de_junta[k][0] - q[k])/dt\n",
        "    elif (q[k] + u[k]*dt) < limites_de_junta[k][1]:\n",
        "      u[k] = (limites_de_junta[k][0] - q[k])/dt\n",
        "\n",
        "  # Guarda informações no histórico\n",
        "  hist_r = np.block([hist_r, r])\n",
        "  hist_u = np.block([hist_u, u])\n",
        "  hist_q = np.block([hist_q, q])\n",
        "  hist_t.append(t)\n",
        "\n",
        "  # Manda a ação de controle para o robô\n",
        "  set_configuration_speed(robot, u)\n",
        "\n",
        "  #################################\n",
        "  # Fim da lógica de controle     #\n",
        "  #################################\n",
        "  if(h<(len(htm_d)-1) and all(p <= 0.0001 for p in r)):\n",
        "    h = h+1; #Nova posição\n",
        "    # print(h)\n",
        "    if (h==1):\n",
        "      robot.attach_object(box)\n",
        "    if(h==3):\n",
        "      robot.detach_object(box)\n",
        "    if(h==4):\n",
        "      robot.attach_object(box1)\n",
        "    if(h==6):\n",
        "      robot.detach_object(box1)\n",
        "    if(h==7):\n",
        "      robot.attach_object(box2)\n",
        "    if(h==9):\n",
        "      robot.detach_object(box2)\n",
        "    if(h==10):\n",
        "      robot.attach_object(box3)\n",
        "    if(h==12):\n",
        "      robot.detach_object(box3)\n",
        "    if(h==13):\n",
        "      robot.attach_object(box4)\n",
        "    if(h==15):\n",
        "      robot.detach_object(box4)\n",
        "    if(h==16):\n",
        "      robot.attach_object(box5)\n",
        "    if(h==18):\n",
        "      robot.detach_object(box5)\n",
        "  #O tempo sempre vai passar no final do ciclo\n",
        "  t+=dt\n",
        "\n",
        "# Roda a simulação\n",
        "sim.run()"
      ],
      "metadata": {
        "id": "1QMQuxKLqgPp"
      },
      "execution_count": null,
      "outputs": []
    },
    {
      "cell_type": "markdown",
      "source": [
        "####Gera gráficos para análise"
      ],
      "metadata": {
        "id": "JI4aLhBYwbpE"
      }
    },
    {
      "cell_type": "code",
      "source": [
        "# Plota gráficos das funções de tarefa e dos sinais de controle\n",
        "ub.Utils.plot(hist_t, hist_r, \"\", \"Tempo (s)\", \"Função de tarefa\", \"r\")\n",
        "ub.Utils.plot(hist_t, hist_u, \"\", \"Tempo (s)\", \"Ação (rad/s ou m/s)\", \"u\")"
      ],
      "metadata": {
        "id": "aKOW2kE3wl3c"
      },
      "execution_count": null,
      "outputs": []
    },
    {
      "cell_type": "code",
      "source": [
        "# Plota gráficos das configurações das juntas e seus limites negativo e positivo\n",
        "lim_pos_matrix = np.zeros((n,int(tmax/dt)))\n",
        "lim_neg_matrix = np.zeros((n,int(tmax/dt)))\n",
        "\n",
        "for i in range(n):\n",
        "  lim_pos_matrix[i,:] = limites_de_junta[i][0]\n",
        "  lim_neg_matrix[i,:] = limites_de_junta[i][1]\n",
        "\n",
        "list_names = [\"q_1\",\"q_2\",\"q_3\",\"q_4\",\"q_5\",\"q_6\"]\n",
        "for i in range(n):\n",
        "  fig = ply.express.line(width=800, height=400)\n",
        "  fig.add_scatter(x=hist_t, y=np.matrix(hist_q[i,:]).tolist()[0], mode='lines', name=list_names[i])\n",
        "  fig.add_scatter(x=hist_t, y=np.matrix(lim_pos_matrix[i,:]).tolist()[0], mode='markers',marker=dict(symbol='300',size=1,color='red'),name='limite positivo')\n",
        "  fig.add_scatter(x=hist_t, y=np.matrix(lim_neg_matrix[i,:]).tolist()[0], mode='markers',marker=dict(symbol='300',size=1,color='orange'),name='limite negativo')\n",
        "  fig.update_xaxes(title_text='Tempo (s)')\n",
        "  fig.update_yaxes(title_text='Rotação da junta (rad)')\n",
        "  fig.show()  "
      ],
      "metadata": {
        "id": "vMGBilF0yMmt"
      },
      "execution_count": null,
      "outputs": []
    }
  ]
}